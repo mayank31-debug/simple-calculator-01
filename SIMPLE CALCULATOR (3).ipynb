{
 "cells": [
  {
   "cell_type": "code",
   "execution_count": 4,
   "id": "2fb01cd7-6b81-4f12-b6b3-b4f421ac8ee9",
   "metadata": {},
   "outputs": [
    {
     "name": "stdout",
     "output_type": "stream",
     "text": [
      "Simple Calculator\n",
      "=================\n",
      "\n"
     ]
    },
    {
     "name": "stdin",
     "output_type": "stream",
     "text": [
      "Enter the first number:  10\n",
      "Enter the second number:  30\n"
     ]
    },
    {
     "name": "stdout",
     "output_type": "stream",
     "text": [
      "\n",
      "Select operation:\n",
      "1. Addition (+)\n",
      "2. Subtraction (-)\n",
      "3. Multiplication (*)\n",
      "4. Division (/)\n"
     ]
    },
    {
     "name": "stdin",
     "output_type": "stream",
     "text": [
      "Enter your choice (1/2/3/4):  2\n"
     ]
    },
    {
     "name": "stdout",
     "output_type": "stream",
     "text": [
      "\n",
      "The result of 10.0 - 30.0 is: -20.0\n"
     ]
    },
    {
     "name": "stdin",
     "output_type": "stream",
     "text": [
      "\n",
      "Would you like to perform another calculation? (yes/no):  yes\n",
      "Enter the first number:  50\n",
      "Enter the second number:  0\n"
     ]
    },
    {
     "name": "stdout",
     "output_type": "stream",
     "text": [
      "\n",
      "Select operation:\n",
      "1. Addition (+)\n",
      "2. Subtraction (-)\n",
      "3. Multiplication (*)\n",
      "4. Division (/)\n"
     ]
    },
    {
     "name": "stdin",
     "output_type": "stream",
     "text": [
      "Enter your choice (1/2/3/4):  4\n"
     ]
    },
    {
     "name": "stdout",
     "output_type": "stream",
     "text": [
      "\n",
      "The result of 50.0 / 0.0 is: Error! Division by zero.\n"
     ]
    },
    {
     "name": "stdin",
     "output_type": "stream",
     "text": [
      "\n",
      "Would you like to perform another calculation? (yes/no):  no\n"
     ]
    },
    {
     "name": "stdout",
     "output_type": "stream",
     "text": [
      "Goodbye!\n"
     ]
    }
   ],
   "source": [
    "def add(x, y):\n",
    "    return x + y\n",
    "\n",
    "def subtract(x, y):\n",
    "    return x - y\n",
    "\n",
    "def multiply(x, y):\n",
    "    return x * y\n",
    "\n",
    "def divide(x, y):\n",
    "    if y == 0:\n",
    "        return \"Error! Division by zero.\"\n",
    "    return x / y\n",
    "\n",
    "def calculator():\n",
    "    print(\"Simple Calculator\")\n",
    "    print(\"=================\\n\")\n",
    "\n",
    "    while True:\n",
    "        try:\n",
    "            num1 = float(input(\"Enter the first number: \"))\n",
    "            num2 = float(input(\"Enter the second number: \"))\n",
    "        except ValueError:\n",
    "            print(\"Invalid input. Please enter numeric values.\")\n",
    "            continue\n",
    "\n",
    "        print(\"\\nSelect operation:\")\n",
    "        print(\"1. Addition (+)\")\n",
    "        print(\"2. Subtraction (-)\")\n",
    "        print(\"3. Multiplication (*)\")\n",
    "        print(\"4. Division (/)\")\n",
    "        \n",
    "        operation = input(\"Enter your choice (1/2/3/4): \")\n",
    "\n",
    "        if operation == '1':\n",
    "            result = add(num1, num2)\n",
    "            print(f\"\\nThe result of {num1} + {num2} is: {result}\")\n",
    "        elif operation == '2':\n",
    "            result = subtract(num1, num2)\n",
    "            print(f\"\\nThe result of {num1} - {num2} is: {result}\")\n",
    "        elif operation == '3':\n",
    "            result = multiply(num1, num2)\n",
    "            print(f\"\\nThe result of {num1} * {num2} is: {result}\")\n",
    "        elif operation == '4':\n",
    "            result = divide(num1, num2)\n",
    "            print(f\"\\nThe result of {num1} / {num2} is: {result}\")\n",
    "        else:\n",
    "            print(\"Invalid operation choice. Please select a valid operation (1/2/3/4).\")\n",
    "            continue\n",
    "\n",
    "        another_calculation = input(\"\\nWould you like to perform another calculation? (yes/no): \").lower()\n",
    "        if another_calculation != 'yes':\n",
    "            print(\"Goodbye!\")\n",
    "            break\n",
    "\n",
    "if __name__ == \"__main__\":\n",
    "    calculator()\n"
   ]
  },
  {
   "cell_type": "code",
   "execution_count": null,
   "id": "4c86b8bd-4e17-487e-a1c3-d65e1993871e",
   "metadata": {},
   "outputs": [],
   "source": []
  }
 ],
 "metadata": {
  "kernelspec": {
   "display_name": "Python 3 (ipykernel)",
   "language": "python",
   "name": "python3"
  },
  "language_info": {
   "codemirror_mode": {
    "name": "ipython",
    "version": 3
   },
   "file_extension": ".py",
   "mimetype": "text/x-python",
   "name": "python",
   "nbconvert_exporter": "python",
   "pygments_lexer": "ipython3",
   "version": "3.11.7"
  }
 },
 "nbformat": 4,
 "nbformat_minor": 5
}
